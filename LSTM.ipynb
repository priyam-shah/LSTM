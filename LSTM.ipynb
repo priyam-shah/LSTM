{
 "cells": [
  {
   "cell_type": "code",
   "execution_count": 1,
   "id": "cab4d0ab",
   "metadata": {},
   "outputs": [],
   "source": [
    "import numpy as np\n",
    "import pandas as pd\n",
    "\n",
    "from sklearn.preprocessing import MinMaxScaler\n",
    "import tensorflow as tf\n",
    "from keras.models import Sequential\n",
    "from keras.layers import Dense, Dropout, LSTM, Bidirectional, Conv1D\n",
    "\n",
    "import matplotlib.pyplot as plt\n",
    "%matplotlib inline"
   ]
  },
  {
   "cell_type": "code",
   "execution_count": 2,
   "id": "9b21c6a2",
   "metadata": {},
   "outputs": [
    {
     "data": {
      "text/html": [
       "<div>\n",
       "<style scoped>\n",
       "    .dataframe tbody tr th:only-of-type {\n",
       "        vertical-align: middle;\n",
       "    }\n",
       "\n",
       "    .dataframe tbody tr th {\n",
       "        vertical-align: top;\n",
       "    }\n",
       "\n",
       "    .dataframe thead th {\n",
       "        text-align: right;\n",
       "    }\n",
       "</style>\n",
       "<table border=\"1\" class=\"dataframe\">\n",
       "  <thead>\n",
       "    <tr style=\"text-align: right;\">\n",
       "      <th></th>\n",
       "      <th>date</th>\n",
       "      <th>symbol</th>\n",
       "      <th>open</th>\n",
       "      <th>close</th>\n",
       "      <th>low</th>\n",
       "      <th>high</th>\n",
       "      <th>volume</th>\n",
       "    </tr>\n",
       "  </thead>\n",
       "  <tbody>\n",
       "    <tr>\n",
       "      <th>448</th>\n",
       "      <td>2010-01-04</td>\n",
       "      <td>HAL</td>\n",
       "      <td>30.719999</td>\n",
       "      <td>31.250000</td>\n",
       "      <td>30.660000</td>\n",
       "      <td>31.340000</td>\n",
       "      <td>11571600.0</td>\n",
       "    </tr>\n",
       "    <tr>\n",
       "      <th>916</th>\n",
       "      <td>2010-01-05</td>\n",
       "      <td>HAL</td>\n",
       "      <td>31.280001</td>\n",
       "      <td>31.650000</td>\n",
       "      <td>30.990000</td>\n",
       "      <td>31.830000</td>\n",
       "      <td>18989700.0</td>\n",
       "    </tr>\n",
       "    <tr>\n",
       "      <th>1384</th>\n",
       "      <td>2010-01-06</td>\n",
       "      <td>HAL</td>\n",
       "      <td>31.740000</td>\n",
       "      <td>32.400002</td>\n",
       "      <td>31.639999</td>\n",
       "      <td>32.590000</td>\n",
       "      <td>15720800.0</td>\n",
       "    </tr>\n",
       "    <tr>\n",
       "      <th>1852</th>\n",
       "      <td>2010-01-07</td>\n",
       "      <td>HAL</td>\n",
       "      <td>32.310001</td>\n",
       "      <td>32.480000</td>\n",
       "      <td>31.920000</td>\n",
       "      <td>32.520000</td>\n",
       "      <td>8993100.0</td>\n",
       "    </tr>\n",
       "    <tr>\n",
       "      <th>2320</th>\n",
       "      <td>2010-01-08</td>\n",
       "      <td>HAL</td>\n",
       "      <td>32.950001</td>\n",
       "      <td>34.119999</td>\n",
       "      <td>32.490002</td>\n",
       "      <td>34.139999</td>\n",
       "      <td>23014600.0</td>\n",
       "    </tr>\n",
       "    <tr>\n",
       "      <th>...</th>\n",
       "      <td>...</td>\n",
       "      <td>...</td>\n",
       "      <td>...</td>\n",
       "      <td>...</td>\n",
       "      <td>...</td>\n",
       "      <td>...</td>\n",
       "      <td>...</td>\n",
       "    </tr>\n",
       "    <tr>\n",
       "      <th>848972</th>\n",
       "      <td>2016-12-23</td>\n",
       "      <td>HAL</td>\n",
       "      <td>55.040001</td>\n",
       "      <td>54.840000</td>\n",
       "      <td>54.630001</td>\n",
       "      <td>55.259998</td>\n",
       "      <td>3161500.0</td>\n",
       "    </tr>\n",
       "    <tr>\n",
       "      <th>849472</th>\n",
       "      <td>2016-12-27</td>\n",
       "      <td>HAL</td>\n",
       "      <td>55.020000</td>\n",
       "      <td>54.910000</td>\n",
       "      <td>54.700001</td>\n",
       "      <td>55.540001</td>\n",
       "      <td>3608700.0</td>\n",
       "    </tr>\n",
       "    <tr>\n",
       "      <th>849972</th>\n",
       "      <td>2016-12-28</td>\n",
       "      <td>HAL</td>\n",
       "      <td>55.110001</td>\n",
       "      <td>54.299999</td>\n",
       "      <td>54.180000</td>\n",
       "      <td>55.220001</td>\n",
       "      <td>4759700.0</td>\n",
       "    </tr>\n",
       "    <tr>\n",
       "      <th>850472</th>\n",
       "      <td>2016-12-29</td>\n",
       "      <td>HAL</td>\n",
       "      <td>54.139999</td>\n",
       "      <td>54.040001</td>\n",
       "      <td>53.840000</td>\n",
       "      <td>54.459999</td>\n",
       "      <td>4216800.0</td>\n",
       "    </tr>\n",
       "    <tr>\n",
       "      <th>850972</th>\n",
       "      <td>2016-12-30</td>\n",
       "      <td>HAL</td>\n",
       "      <td>54.029999</td>\n",
       "      <td>54.090000</td>\n",
       "      <td>53.610001</td>\n",
       "      <td>54.360001</td>\n",
       "      <td>4638300.0</td>\n",
       "    </tr>\n",
       "  </tbody>\n",
       "</table>\n",
       "<p>1762 rows × 7 columns</p>\n",
       "</div>"
      ],
      "text/plain": [
       "              date symbol       open      close        low       high  \\\n",
       "448     2010-01-04    HAL  30.719999  31.250000  30.660000  31.340000   \n",
       "916     2010-01-05    HAL  31.280001  31.650000  30.990000  31.830000   \n",
       "1384    2010-01-06    HAL  31.740000  32.400002  31.639999  32.590000   \n",
       "1852    2010-01-07    HAL  32.310001  32.480000  31.920000  32.520000   \n",
       "2320    2010-01-08    HAL  32.950001  34.119999  32.490002  34.139999   \n",
       "...            ...    ...        ...        ...        ...        ...   \n",
       "848972  2016-12-23    HAL  55.040001  54.840000  54.630001  55.259998   \n",
       "849472  2016-12-27    HAL  55.020000  54.910000  54.700001  55.540001   \n",
       "849972  2016-12-28    HAL  55.110001  54.299999  54.180000  55.220001   \n",
       "850472  2016-12-29    HAL  54.139999  54.040001  53.840000  54.459999   \n",
       "850972  2016-12-30    HAL  54.029999  54.090000  53.610001  54.360001   \n",
       "\n",
       "            volume  \n",
       "448     11571600.0  \n",
       "916     18989700.0  \n",
       "1384    15720800.0  \n",
       "1852     8993100.0  \n",
       "2320    23014600.0  \n",
       "...            ...  \n",
       "848972   3161500.0  \n",
       "849472   3608700.0  \n",
       "849972   4759700.0  \n",
       "850472   4216800.0  \n",
       "850972   4638300.0  \n",
       "\n",
       "[1762 rows x 7 columns]"
      ]
     },
     "execution_count": 2,
     "metadata": {},
     "output_type": "execute_result"
    }
   ],
   "source": [
    "pd.options.mode.chained_assignment = None #supress warning\n",
    "\n",
    "stock_dataframe = pd.read_csv('prices-split-adjusted.csv')\n",
    "symbol = stock_dataframe[stock_dataframe['symbol'] == 'HAL']\n",
    "\n",
    "# stock_dataframe = pd.read_csv('BSE_30.csv')\n",
    "# symbol = stock_dataframe[stock_dataframe['symbol'] == 'ADANIPORTS']\n",
    "\n",
    "symbol"
   ]
  },
  {
   "cell_type": "code",
   "execution_count": 3,
   "id": "598dc33c",
   "metadata": {},
   "outputs": [
    {
     "data": {
      "text/plain": [
       "pandas.core.frame.DataFrame"
      ]
     },
     "execution_count": 3,
     "metadata": {},
     "output_type": "execute_result"
    }
   ],
   "source": [
    "type(symbol)"
   ]
  },
  {
   "cell_type": "code",
   "execution_count": 4,
   "id": "db4f2df6",
   "metadata": {
    "scrolled": true
   },
   "outputs": [],
   "source": [
    "symbol.drop('symbol', axis = 1,  inplace=True)\n",
    "symbol.drop('open', axis = 1,  inplace=True)\n",
    "symbol.drop('low', axis = 1,  inplace=True)\n",
    "symbol.drop('high', axis = 1,  inplace=True)\n",
    "symbol.drop('volume', axis = 1,  inplace=True)\n",
    "\n",
    "# only for bse data\n",
    "# symbol.drop('Adj Close', axis = 1,  inplace=True)"
   ]
  },
  {
   "cell_type": "code",
   "execution_count": 5,
   "id": "c88dcbd2",
   "metadata": {},
   "outputs": [],
   "source": [
    "def EMA(DataFrame,p):\n",
    "    stock_dataframe = DataFrame.copy()\n",
    "    stock_dataframe[\"EMA\"]=stock_dataframe[\"close\"].ewm(span=p,min_periods=p).mean() \n",
    "    stock_dataframe.dropna(inplace=True)\n",
    "    return stock_dataframe"
   ]
  },
  {
   "cell_type": "code",
   "execution_count": 6,
   "id": "ddfd0045",
   "metadata": {},
   "outputs": [
    {
     "data": {
      "text/html": [
       "<div>\n",
       "<style scoped>\n",
       "    .dataframe tbody tr th:only-of-type {\n",
       "        vertical-align: middle;\n",
       "    }\n",
       "\n",
       "    .dataframe tbody tr th {\n",
       "        vertical-align: top;\n",
       "    }\n",
       "\n",
       "    .dataframe thead th {\n",
       "        text-align: right;\n",
       "    }\n",
       "</style>\n",
       "<table border=\"1\" class=\"dataframe\">\n",
       "  <thead>\n",
       "    <tr style=\"text-align: right;\">\n",
       "      <th></th>\n",
       "      <th>date</th>\n",
       "      <th>close</th>\n",
       "      <th>EMA</th>\n",
       "    </tr>\n",
       "  </thead>\n",
       "  <tbody>\n",
       "    <tr>\n",
       "      <th>3724</th>\n",
       "      <td>2010-01-13</td>\n",
       "      <td>34.049999</td>\n",
       "      <td>33.336927</td>\n",
       "    </tr>\n",
       "    <tr>\n",
       "      <th>4192</th>\n",
       "      <td>2010-01-14</td>\n",
       "      <td>34.310001</td>\n",
       "      <td>33.578308</td>\n",
       "    </tr>\n",
       "    <tr>\n",
       "      <th>4660</th>\n",
       "      <td>2010-01-15</td>\n",
       "      <td>34.029999</td>\n",
       "      <td>33.687532</td>\n",
       "    </tr>\n",
       "    <tr>\n",
       "      <th>5128</th>\n",
       "      <td>2010-01-19</td>\n",
       "      <td>34.599998</td>\n",
       "      <td>33.903938</td>\n",
       "    </tr>\n",
       "    <tr>\n",
       "      <th>5596</th>\n",
       "      <td>2010-01-20</td>\n",
       "      <td>33.270000</td>\n",
       "      <td>33.755803</td>\n",
       "    </tr>\n",
       "    <tr>\n",
       "      <th>...</th>\n",
       "      <td>...</td>\n",
       "      <td>...</td>\n",
       "      <td>...</td>\n",
       "    </tr>\n",
       "    <tr>\n",
       "      <th>848972</th>\n",
       "      <td>2016-12-23</td>\n",
       "      <td>54.840000</td>\n",
       "      <td>54.359605</td>\n",
       "    </tr>\n",
       "    <tr>\n",
       "      <th>849472</th>\n",
       "      <td>2016-12-27</td>\n",
       "      <td>54.910000</td>\n",
       "      <td>54.481915</td>\n",
       "    </tr>\n",
       "    <tr>\n",
       "      <th>849972</th>\n",
       "      <td>2016-12-28</td>\n",
       "      <td>54.299999</td>\n",
       "      <td>54.441489</td>\n",
       "    </tr>\n",
       "    <tr>\n",
       "      <th>850472</th>\n",
       "      <td>2016-12-29</td>\n",
       "      <td>54.040001</td>\n",
       "      <td>54.352270</td>\n",
       "    </tr>\n",
       "    <tr>\n",
       "      <th>850972</th>\n",
       "      <td>2016-12-30</td>\n",
       "      <td>54.090000</td>\n",
       "      <td>54.293988</td>\n",
       "    </tr>\n",
       "  </tbody>\n",
       "</table>\n",
       "<p>1755 rows × 3 columns</p>\n",
       "</div>"
      ],
      "text/plain": [
       "              date      close        EMA\n",
       "3724    2010-01-13  34.049999  33.336927\n",
       "4192    2010-01-14  34.310001  33.578308\n",
       "4660    2010-01-15  34.029999  33.687532\n",
       "5128    2010-01-19  34.599998  33.903938\n",
       "5596    2010-01-20  33.270000  33.755803\n",
       "...            ...        ...        ...\n",
       "848972  2016-12-23  54.840000  54.359605\n",
       "849472  2016-12-27  54.910000  54.481915\n",
       "849972  2016-12-28  54.299999  54.441489\n",
       "850472  2016-12-29  54.040001  54.352270\n",
       "850972  2016-12-30  54.090000  54.293988\n",
       "\n",
       "[1755 rows x 3 columns]"
      ]
     },
     "execution_count": 6,
     "metadata": {},
     "output_type": "execute_result"
    }
   ],
   "source": [
    "symbol = EMA(symbol, 8) \n",
    "# period could be b/w 12 and 26 for MACD calculation  \n",
    "symbol"
   ]
  },
  {
   "cell_type": "code",
   "execution_count": 7,
   "id": "93f9ef97",
   "metadata": {},
   "outputs": [
    {
     "data": {
      "text/plain": [
       "<matplotlib.legend.Legend at 0x285231f40>"
      ]
     },
     "execution_count": 7,
     "metadata": {},
     "output_type": "execute_result"
    },
    {
     "data": {
      "image/png": "[encoded data removed]",
      "text/plain": [
       "<Figure size 1152x576 with 1 Axes>"
      ]
     },
     "metadata": {
      "needs_background": "light"
     },
     "output_type": "display_data"
    }
   ],
   "source": [
    "plt.figure(figsize=(16,8))\n",
    "plt.plot(symbol['close'])\n",
    "plt.plot(symbol['EMA'])\n",
    "plt.legend(['Real', 'EMA'])"
   ]
  },
  {
   "cell_type": "code",
   "execution_count": 8,
   "id": "27dab150",
   "metadata": {},
   "outputs": [],
   "source": [
    "close = symbol['close']\n",
    "close = pd.DataFrame(data=close)"
   ]
  },
  {
   "cell_type": "code",
   "execution_count": 9,
   "id": "03fb0fdc",
   "metadata": {},
   "outputs": [],
   "source": [
    "symbol.drop('date', axis = 1,  inplace=True)\n",
    "symbol.drop('close', axis = 1,  inplace=True)"
   ]
  },
  {
   "cell_type": "code",
   "execution_count": 10,
   "id": "d3492856",
   "metadata": {},
   "outputs": [
    {
     "data": {
      "text/html": [
       "<div>\n",
       "<style scoped>\n",
       "    .dataframe tbody tr th:only-of-type {\n",
       "        vertical-align: middle;\n",
       "    }\n",
       "\n",
       "    .dataframe tbody tr th {\n",
       "        vertical-align: top;\n",
       "    }\n",
       "\n",
       "    .dataframe thead th {\n",
       "        text-align: right;\n",
       "    }\n",
       "</style>\n",
       "<table border=\"1\" class=\"dataframe\">\n",
       "  <thead>\n",
       "    <tr style=\"text-align: right;\">\n",
       "      <th></th>\n",
       "      <th>EMA</th>\n",
       "    </tr>\n",
       "  </thead>\n",
       "  <tbody>\n",
       "    <tr>\n",
       "      <th>3724</th>\n",
       "      <td>33.336927</td>\n",
       "    </tr>\n",
       "    <tr>\n",
       "      <th>4192</th>\n",
       "      <td>33.578308</td>\n",
       "    </tr>\n",
       "    <tr>\n",
       "      <th>4660</th>\n",
       "      <td>33.687532</td>\n",
       "    </tr>\n",
       "    <tr>\n",
       "      <th>5128</th>\n",
       "      <td>33.903938</td>\n",
       "    </tr>\n",
       "    <tr>\n",
       "      <th>5596</th>\n",
       "      <td>33.755803</td>\n",
       "    </tr>\n",
       "    <tr>\n",
       "      <th>...</th>\n",
       "      <td>...</td>\n",
       "    </tr>\n",
       "    <tr>\n",
       "      <th>848972</th>\n",
       "      <td>54.359605</td>\n",
       "    </tr>\n",
       "    <tr>\n",
       "      <th>849472</th>\n",
       "      <td>54.481915</td>\n",
       "    </tr>\n",
       "    <tr>\n",
       "      <th>849972</th>\n",
       "      <td>54.441489</td>\n",
       "    </tr>\n",
       "    <tr>\n",
       "      <th>850472</th>\n",
       "      <td>54.352270</td>\n",
       "    </tr>\n",
       "    <tr>\n",
       "      <th>850972</th>\n",
       "      <td>54.293988</td>\n",
       "    </tr>\n",
       "  </tbody>\n",
       "</table>\n",
       "<p>1755 rows × 1 columns</p>\n",
       "</div>"
      ],
      "text/plain": [
       "              EMA\n",
       "3724    33.336927\n",
       "4192    33.578308\n",
       "4660    33.687532\n",
       "5128    33.903938\n",
       "5596    33.755803\n",
       "...           ...\n",
       "848972  54.359605\n",
       "849472  54.481915\n",
       "849972  54.441489\n",
       "850472  54.352270\n",
       "850972  54.293988\n",
       "\n",
       "[1755 rows x 1 columns]"
      ]
     },
     "execution_count": 10,
     "metadata": {},
     "output_type": "execute_result"
    }
   ],
   "source": [
    "symbol"
   ]
  },
  {
   "cell_type": "code",
   "execution_count": 11,
   "id": "3f74cf8e",
   "metadata": {},
   "outputs": [
    {
     "data": {
      "text/plain": [
       "array([[33.33692679],\n",
       "       [33.57830767],\n",
       "       [33.68753213],\n",
       "       ...,\n",
       "       [54.44148946],\n",
       "       [54.3522698 ],\n",
       "       [54.29398762]])"
      ]
     },
     "execution_count": 11,
     "metadata": {},
     "output_type": "execute_result"
    }
   ],
   "source": [
    "dataset = symbol.values\n",
    "\n",
    "dataset"
   ]
  },
  {
   "cell_type": "code",
   "execution_count": 12,
   "id": "08cadde4",
   "metadata": {},
   "outputs": [],
   "source": [
    "train = dataset[0:1500,:]\n",
    "valid = dataset[1500:,:]"
   ]
  },
  {
   "cell_type": "code",
   "execution_count": 13,
   "id": "7bfea69f",
   "metadata": {},
   "outputs": [],
   "source": [
    "scaler = MinMaxScaler(feature_range=(0, 1)) # normalizing the data\n",
    "scaled_data = scaler.fit_transform(dataset)"
   ]
  },
  {
   "cell_type": "code",
   "execution_count": 14,
   "id": "f63732e1",
   "metadata": {},
   "outputs": [],
   "source": [
    "x_train, y_train = [], []\n",
    "\n",
    "for i in range(60,len(train)):\n",
    "    x_train.append(scaled_data[i-60:i,0])\n",
    "    y_train.append(scaled_data[i,0])\n",
    "    \n",
    "x_train, y_train = np.array(x_train), np.array(y_train)\n",
    "x_train = np.reshape(x_train, (x_train.shape[0],x_train.shape[1],1))"
   ]
  },
  {
   "cell_type": "code",
   "execution_count": 15,
   "id": "f22ed4ce",
   "metadata": {},
   "outputs": [],
   "source": [
    "model = Sequential()\n",
    "model.add(Dense(20,activation='tanh'))\n",
    "model.add(Dense(10,activation='tanh'))\n",
    "model.add(Conv1D(filters=32, kernel_size=3,strides=1, padding=\"causal\", activation=\"relu\", input_shape=[None, 1]))\n",
    "model.add(Bidirectional(LSTM(units=32)))\n",
    "model.add(Dense(1))"
   ]
  },
  {
   "cell_type": "code",
   "execution_count": 16,
   "id": "24a31a77",
   "metadata": {},
   "outputs": [
    {
     "name": "stdout",
     "output_type": "stream",
     "text": [
      "Epoch 1/100\n"
     ]
    },
    {
     "name": "stderr",
     "output_type": "stream",
     "text": [
      "2022-05-01 13:36:55.362219: W tensorflow/core/platform/profile_utils/cpu_utils.cc:128] Failed to get CPU frequency: 0 Hz\n"
     ]
    },
    {
     "name": "stdout",
     "output_type": "stream",
     "text": [
      "10/10 [==============================] - 2s 52ms/step - loss: 0.0735 - mae: 0.1987 - val_loss: 0.0319 - val_mae: 0.1738\n",
      "Epoch 2/100\n",
      "10/10 [==============================] - 0s 22ms/step - loss: 0.0163 - mae: 0.1058 - val_loss: 0.0028 - val_mae: 0.0405\n",
      "Epoch 3/100\n",
      "10/10 [==============================] - 0s 22ms/step - loss: 0.0090 - mae: 0.0710 - val_loss: 0.0036 - val_mae: 0.0517\n",
      "Epoch 4/100\n",
      "10/10 [==============================] - 0s 21ms/step - loss: 0.0048 - mae: 0.0539 - val_loss: 0.0013 - val_mae: 0.0293\n",
      "Epoch 5/100\n",
      "10/10 [==============================] - 0s 21ms/step - loss: 0.0032 - mae: 0.0434 - val_loss: 0.0012 - val_mae: 0.0282\n",
      "Epoch 6/100\n",
      "10/10 [==============================] - 0s 20ms/step - loss: 0.0023 - mae: 0.0346 - val_loss: 7.7049e-04 - val_mae: 0.0211\n",
      "Epoch 7/100\n",
      "10/10 [==============================] - 0s 21ms/step - loss: 0.0020 - mae: 0.0340 - val_loss: 7.7840e-04 - val_mae: 0.0220\n",
      "Epoch 8/100\n",
      "10/10 [==============================] - 0s 20ms/step - loss: 0.0016 - mae: 0.0293 - val_loss: 5.7270e-04 - val_mae: 0.0180\n",
      "Epoch 9/100\n",
      "10/10 [==============================] - 0s 20ms/step - loss: 0.0013 - mae: 0.0268 - val_loss: 6.4417e-04 - val_mae: 0.0204\n",
      "Epoch 10/100\n",
      "10/10 [==============================] - 0s 20ms/step - loss: 0.0011 - mae: 0.0241 - val_loss: 4.5484e-04 - val_mae: 0.0162\n",
      "Epoch 11/100\n",
      "10/10 [==============================] - 0s 21ms/step - loss: 9.2025e-04 - mae: 0.0225 - val_loss: 4.6578e-04 - val_mae: 0.0169\n",
      "Epoch 12/100\n",
      "10/10 [==============================] - 0s 21ms/step - loss: 8.1705e-04 - mae: 0.0215 - val_loss: 4.6951e-04 - val_mae: 0.0170\n",
      "Epoch 13/100\n",
      "10/10 [==============================] - 0s 22ms/step - loss: 7.6848e-04 - mae: 0.0211 - val_loss: 4.3554e-04 - val_mae: 0.0166\n",
      "Epoch 14/100\n",
      "10/10 [==============================] - 0s 22ms/step - loss: 7.3535e-04 - mae: 0.0208 - val_loss: 4.0461e-04 - val_mae: 0.0161\n",
      "Epoch 15/100\n",
      "10/10 [==============================] - 0s 22ms/step - loss: 7.1529e-04 - mae: 0.0206 - val_loss: 4.1468e-04 - val_mae: 0.0161\n",
      "Epoch 16/100\n",
      "10/10 [==============================] - 0s 21ms/step - loss: 7.1109e-04 - mae: 0.0206 - val_loss: 3.6603e-04 - val_mae: 0.0152\n",
      "Epoch 17/100\n",
      "10/10 [==============================] - 0s 21ms/step - loss: 7.1707e-04 - mae: 0.0207 - val_loss: 3.7002e-04 - val_mae: 0.0152\n",
      "Epoch 18/100\n",
      "10/10 [==============================] - 0s 22ms/step - loss: 6.5690e-04 - mae: 0.0198 - val_loss: 3.7429e-04 - val_mae: 0.0152\n",
      "Epoch 19/100\n",
      "10/10 [==============================] - 0s 22ms/step - loss: 6.3852e-04 - mae: 0.0194 - val_loss: 3.8964e-04 - val_mae: 0.0153\n",
      "Epoch 20/100\n",
      "10/10 [==============================] - 0s 21ms/step - loss: 6.4516e-04 - mae: 0.0194 - val_loss: 3.9854e-04 - val_mae: 0.0154\n",
      "Epoch 21/100\n",
      "10/10 [==============================] - 0s 22ms/step - loss: 6.0360e-04 - mae: 0.0188 - val_loss: 3.3055e-04 - val_mae: 0.0143\n",
      "Epoch 22/100\n",
      "10/10 [==============================] - 0s 22ms/step - loss: 5.9361e-04 - mae: 0.0187 - val_loss: 3.2057e-04 - val_mae: 0.0141\n",
      "Epoch 23/100\n",
      "10/10 [==============================] - 0s 22ms/step - loss: 5.9362e-04 - mae: 0.0186 - val_loss: 3.6918e-04 - val_mae: 0.0148\n",
      "Epoch 24/100\n",
      "10/10 [==============================] - 0s 22ms/step - loss: 5.8862e-04 - mae: 0.0183 - val_loss: 3.3363e-04 - val_mae: 0.0141\n",
      "Epoch 25/100\n",
      "10/10 [==============================] - 0s 22ms/step - loss: 5.4332e-04 - mae: 0.0178 - val_loss: 3.6243e-04 - val_mae: 0.0146\n",
      "Epoch 26/100\n",
      "10/10 [==============================] - 0s 22ms/step - loss: 5.3613e-04 - mae: 0.0176 - val_loss: 3.2714e-04 - val_mae: 0.0139\n",
      "Epoch 27/100\n",
      "10/10 [==============================] - 0s 22ms/step - loss: 5.1534e-04 - mae: 0.0172 - val_loss: 3.2688e-04 - val_mae: 0.0139\n",
      "Epoch 28/100\n",
      "10/10 [==============================] - 0s 22ms/step - loss: 5.0593e-04 - mae: 0.0170 - val_loss: 2.8530e-04 - val_mae: 0.0132\n",
      "Epoch 29/100\n",
      "10/10 [==============================] - 0s 22ms/step - loss: 5.0314e-04 - mae: 0.0170 - val_loss: 3.2848e-04 - val_mae: 0.0138\n",
      "Epoch 30/100\n",
      "10/10 [==============================] - 0s 22ms/step - loss: 4.8389e-04 - mae: 0.0164 - val_loss: 2.7941e-04 - val_mae: 0.0130\n",
      "Epoch 31/100\n",
      "10/10 [==============================] - 0s 23ms/step - loss: 4.7920e-04 - mae: 0.0165 - val_loss: 3.0477e-04 - val_mae: 0.0133\n",
      "Epoch 32/100\n",
      "10/10 [==============================] - 0s 22ms/step - loss: 4.7017e-04 - mae: 0.0163 - val_loss: 3.4415e-04 - val_mae: 0.0141\n",
      "Epoch 33/100\n",
      "10/10 [==============================] - 0s 22ms/step - loss: 4.5400e-04 - mae: 0.0159 - val_loss: 2.6085e-04 - val_mae: 0.0125\n",
      "Epoch 34/100\n",
      "10/10 [==============================] - 0s 22ms/step - loss: 4.5499e-04 - mae: 0.0162 - val_loss: 2.5774e-04 - val_mae: 0.0125\n",
      "Epoch 35/100\n",
      "10/10 [==============================] - 0s 22ms/step - loss: 4.5169e-04 - mae: 0.0158 - val_loss: 2.9683e-04 - val_mae: 0.0131\n",
      "Epoch 36/100\n",
      "10/10 [==============================] - 0s 22ms/step - loss: 4.2659e-04 - mae: 0.0154 - val_loss: 2.6292e-04 - val_mae: 0.0124\n",
      "Epoch 37/100\n",
      "10/10 [==============================] - 0s 21ms/step - loss: 4.1198e-04 - mae: 0.0151 - val_loss: 2.5406e-04 - val_mae: 0.0122\n",
      "Epoch 38/100\n",
      "10/10 [==============================] - 0s 21ms/step - loss: 4.2161e-04 - mae: 0.0154 - val_loss: 2.7220e-04 - val_mae: 0.0126\n",
      "Epoch 39/100\n",
      "10/10 [==============================] - 0s 22ms/step - loss: 4.3271e-04 - mae: 0.0155 - val_loss: 2.4377e-04 - val_mae: 0.0119\n",
      "Epoch 40/100\n",
      "10/10 [==============================] - 0s 22ms/step - loss: 4.0632e-04 - mae: 0.0152 - val_loss: 2.5115e-04 - val_mae: 0.0120\n",
      "Epoch 41/100\n",
      "10/10 [==============================] - 0s 23ms/step - loss: 3.9172e-04 - mae: 0.0146 - val_loss: 2.8136e-04 - val_mae: 0.0128\n",
      "Epoch 42/100\n",
      "10/10 [==============================] - 0s 23ms/step - loss: 3.9102e-04 - mae: 0.0148 - val_loss: 2.3488e-04 - val_mae: 0.0117\n",
      "Epoch 43/100\n",
      "10/10 [==============================] - 0s 21ms/step - loss: 3.6562e-04 - mae: 0.0142 - val_loss: 2.3968e-04 - val_mae: 0.0117\n",
      "Epoch 44/100\n",
      "10/10 [==============================] - 0s 22ms/step - loss: 3.6177e-04 - mae: 0.0141 - val_loss: 3.3632e-04 - val_mae: 0.0142\n",
      "Epoch 45/100\n",
      "10/10 [==============================] - 0s 21ms/step - loss: 3.8325e-04 - mae: 0.0146 - val_loss: 2.2444e-04 - val_mae: 0.0113\n",
      "Epoch 46/100\n",
      "10/10 [==============================] - 0s 22ms/step - loss: 3.5170e-04 - mae: 0.0141 - val_loss: 2.3333e-04 - val_mae: 0.0115\n",
      "Epoch 47/100\n",
      "10/10 [==============================] - 0s 22ms/step - loss: 3.4506e-04 - mae: 0.0138 - val_loss: 2.9078e-04 - val_mae: 0.0131\n",
      "Epoch 48/100\n",
      "10/10 [==============================] - 0s 21ms/step - loss: 3.5382e-04 - mae: 0.0140 - val_loss: 2.3944e-04 - val_mae: 0.0117\n",
      "Epoch 49/100\n",
      "10/10 [==============================] - 0s 21ms/step - loss: 3.7322e-04 - mae: 0.0146 - val_loss: 3.9522e-04 - val_mae: 0.0159\n",
      "Epoch 50/100\n",
      "10/10 [==============================] - 0s 21ms/step - loss: 3.6463e-04 - mae: 0.0144 - val_loss: 2.2020e-04 - val_mae: 0.0111\n",
      "Epoch 51/100\n",
      "10/10 [==============================] - 0s 21ms/step - loss: 3.8497e-04 - mae: 0.0149 - val_loss: 3.5500e-04 - val_mae: 0.0149\n",
      "Epoch 52/100\n",
      "10/10 [==============================] - 0s 22ms/step - loss: 3.6160e-04 - mae: 0.0141 - val_loss: 2.1061e-04 - val_mae: 0.0107\n",
      "Epoch 53/100\n",
      "10/10 [==============================] - 0s 22ms/step - loss: 3.3072e-04 - mae: 0.0137 - val_loss: 2.1621e-04 - val_mae: 0.0110\n",
      "Epoch 54/100\n",
      "10/10 [==============================] - 0s 22ms/step - loss: 3.1593e-04 - mae: 0.0131 - val_loss: 2.2646e-04 - val_mae: 0.0113\n",
      "Epoch 55/100\n",
      "10/10 [==============================] - 0s 22ms/step - loss: 3.0394e-04 - mae: 0.0130 - val_loss: 2.0756e-04 - val_mae: 0.0106\n",
      "Epoch 56/100\n",
      "10/10 [==============================] - 0s 22ms/step - loss: 2.9698e-04 - mae: 0.0127 - val_loss: 2.2284e-04 - val_mae: 0.0112\n",
      "Epoch 57/100\n",
      "10/10 [==============================] - 0s 22ms/step - loss: 3.0163e-04 - mae: 0.0128 - val_loss: 2.2507e-04 - val_mae: 0.0112\n",
      "Epoch 58/100\n",
      "10/10 [==============================] - 0s 22ms/step - loss: 2.9409e-04 - mae: 0.0126 - val_loss: 2.1950e-04 - val_mae: 0.0111\n",
      "Epoch 59/100\n",
      "10/10 [==============================] - 0s 23ms/step - loss: 2.9095e-04 - mae: 0.0126 - val_loss: 1.9945e-04 - val_mae: 0.0103\n"
     ]
    },
    {
     "name": "stdout",
     "output_type": "stream",
     "text": [
      "Epoch 60/100\n",
      "10/10 [==============================] - 0s 21ms/step - loss: 2.9289e-04 - mae: 0.0128 - val_loss: 2.2026e-04 - val_mae: 0.0111\n",
      "Epoch 61/100\n",
      "10/10 [==============================] - 0s 21ms/step - loss: 2.8422e-04 - mae: 0.0125 - val_loss: 2.8769e-04 - val_mae: 0.0132\n",
      "Epoch 62/100\n",
      "10/10 [==============================] - 0s 21ms/step - loss: 3.2278e-04 - mae: 0.0133 - val_loss: 1.9703e-04 - val_mae: 0.0102\n",
      "Epoch 63/100\n",
      "10/10 [==============================] - 0s 21ms/step - loss: 3.2961e-04 - mae: 0.0135 - val_loss: 1.9582e-04 - val_mae: 0.0101\n",
      "Epoch 64/100\n",
      "10/10 [==============================] - 0s 21ms/step - loss: 3.0741e-04 - mae: 0.0131 - val_loss: 2.8243e-04 - val_mae: 0.0131\n",
      "Epoch 65/100\n",
      "10/10 [==============================] - 0s 21ms/step - loss: 2.8023e-04 - mae: 0.0123 - val_loss: 1.9379e-04 - val_mae: 0.0101\n",
      "Epoch 66/100\n",
      "10/10 [==============================] - 0s 21ms/step - loss: 2.7775e-04 - mae: 0.0123 - val_loss: 2.0972e-04 - val_mae: 0.0107\n",
      "Epoch 67/100\n",
      "10/10 [==============================] - 0s 21ms/step - loss: 2.6824e-04 - mae: 0.0121 - val_loss: 1.9159e-04 - val_mae: 0.0100\n",
      "Epoch 68/100\n",
      "10/10 [==============================] - 0s 21ms/step - loss: 2.6788e-04 - mae: 0.0120 - val_loss: 2.3768e-04 - val_mae: 0.0117\n",
      "Epoch 69/100\n",
      "10/10 [==============================] - 0s 20ms/step - loss: 2.6843e-04 - mae: 0.0121 - val_loss: 1.9290e-04 - val_mae: 0.0101\n",
      "Epoch 70/100\n",
      "10/10 [==============================] - 0s 21ms/step - loss: 2.6430e-04 - mae: 0.0122 - val_loss: 2.5330e-04 - val_mae: 0.0123\n",
      "Epoch 71/100\n",
      "10/10 [==============================] - 0s 21ms/step - loss: 2.7727e-04 - mae: 0.0122 - val_loss: 1.8761e-04 - val_mae: 0.0098\n",
      "Epoch 72/100\n",
      "10/10 [==============================] - 0s 21ms/step - loss: 2.6188e-04 - mae: 0.0120 - val_loss: 1.9209e-04 - val_mae: 0.0101\n",
      "Epoch 73/100\n",
      "10/10 [==============================] - 0s 21ms/step - loss: 2.5233e-04 - mae: 0.0117 - val_loss: 2.0176e-04 - val_mae: 0.0105\n",
      "Epoch 74/100\n",
      "10/10 [==============================] - 0s 21ms/step - loss: 2.5451e-04 - mae: 0.0117 - val_loss: 1.8508e-04 - val_mae: 0.0098\n",
      "Epoch 75/100\n",
      "10/10 [==============================] - 0s 21ms/step - loss: 2.6290e-04 - mae: 0.0121 - val_loss: 1.8495e-04 - val_mae: 0.0098\n",
      "Epoch 76/100\n",
      "10/10 [==============================] - 0s 21ms/step - loss: 2.5931e-04 - mae: 0.0120 - val_loss: 2.2065e-04 - val_mae: 0.0112\n",
      "Epoch 77/100\n",
      "10/10 [==============================] - 0s 21ms/step - loss: 2.4842e-04 - mae: 0.0116 - val_loss: 2.0075e-04 - val_mae: 0.0105\n",
      "Epoch 78/100\n",
      "10/10 [==============================] - 0s 21ms/step - loss: 2.4434e-04 - mae: 0.0116 - val_loss: 1.8409e-04 - val_mae: 0.0098\n",
      "Epoch 79/100\n",
      "10/10 [==============================] - 0s 21ms/step - loss: 2.4269e-04 - mae: 0.0115 - val_loss: 1.8371e-04 - val_mae: 0.0098\n",
      "Epoch 80/100\n",
      "10/10 [==============================] - 0s 21ms/step - loss: 2.4694e-04 - mae: 0.0117 - val_loss: 2.6640e-04 - val_mae: 0.0127\n",
      "Epoch 81/100\n",
      "10/10 [==============================] - 0s 21ms/step - loss: 2.4580e-04 - mae: 0.0117 - val_loss: 1.8608e-04 - val_mae: 0.0099\n",
      "Epoch 82/100\n",
      "10/10 [==============================] - 0s 21ms/step - loss: 2.5775e-04 - mae: 0.0119 - val_loss: 1.8690e-04 - val_mae: 0.0099\n",
      "Epoch 83/100\n",
      "10/10 [==============================] - 0s 21ms/step - loss: 2.5433e-04 - mae: 0.0119 - val_loss: 2.2221e-04 - val_mae: 0.0113\n",
      "Epoch 84/100\n",
      "10/10 [==============================] - 0s 21ms/step - loss: 2.6456e-04 - mae: 0.0119 - val_loss: 1.7596e-04 - val_mae: 0.0095\n",
      "Epoch 85/100\n",
      "10/10 [==============================] - 0s 21ms/step - loss: 2.3877e-04 - mae: 0.0114 - val_loss: 1.7608e-04 - val_mae: 0.0095\n",
      "Epoch 86/100\n",
      "10/10 [==============================] - 0s 21ms/step - loss: 2.2867e-04 - mae: 0.0111 - val_loss: 1.8064e-04 - val_mae: 0.0097\n",
      "Epoch 87/100\n",
      "10/10 [==============================] - 0s 21ms/step - loss: 2.2911e-04 - mae: 0.0112 - val_loss: 1.7585e-04 - val_mae: 0.0095\n",
      "Epoch 88/100\n",
      "10/10 [==============================] - 0s 21ms/step - loss: 2.2619e-04 - mae: 0.0110 - val_loss: 1.7910e-04 - val_mae: 0.0097\n",
      "Epoch 89/100\n",
      "10/10 [==============================] - 0s 21ms/step - loss: 2.2275e-04 - mae: 0.0110 - val_loss: 1.9519e-04 - val_mae: 0.0104\n",
      "Epoch 90/100\n",
      "10/10 [==============================] - 0s 21ms/step - loss: 2.2560e-04 - mae: 0.0112 - val_loss: 1.7158e-04 - val_mae: 0.0093\n",
      "Epoch 91/100\n",
      "10/10 [==============================] - 0s 21ms/step - loss: 2.2862e-04 - mae: 0.0112 - val_loss: 1.8477e-04 - val_mae: 0.0099\n",
      "Epoch 92/100\n",
      "10/10 [==============================] - 0s 21ms/step - loss: 2.3456e-04 - mae: 0.0114 - val_loss: 1.7123e-04 - val_mae: 0.0093\n",
      "Epoch 93/100\n",
      "10/10 [==============================] - 0s 21ms/step - loss: 2.2011e-04 - mae: 0.0110 - val_loss: 1.7037e-04 - val_mae: 0.0093\n",
      "Epoch 94/100\n",
      "10/10 [==============================] - 0s 21ms/step - loss: 2.1413e-04 - mae: 0.0108 - val_loss: 1.7438e-04 - val_mae: 0.0095\n",
      "Epoch 95/100\n",
      "10/10 [==============================] - 0s 21ms/step - loss: 2.1744e-04 - mae: 0.0109 - val_loss: 1.6725e-04 - val_mae: 0.0092\n",
      "Epoch 96/100\n",
      "10/10 [==============================] - 0s 21ms/step - loss: 2.1538e-04 - mae: 0.0109 - val_loss: 1.6670e-04 - val_mae: 0.0092\n",
      "Epoch 97/100\n",
      "10/10 [==============================] - 0s 21ms/step - loss: 2.1132e-04 - mae: 0.0107 - val_loss: 1.7594e-04 - val_mae: 0.0097\n",
      "Epoch 98/100\n",
      "10/10 [==============================] - 0s 21ms/step - loss: 2.2170e-04 - mae: 0.0111 - val_loss: 1.7251e-04 - val_mae: 0.0095\n",
      "Epoch 99/100\n",
      "10/10 [==============================] - 0s 21ms/step - loss: 2.1024e-04 - mae: 0.0108 - val_loss: 1.7195e-04 - val_mae: 0.0094\n",
      "Epoch 100/100\n",
      "10/10 [==============================] - 0s 21ms/step - loss: 2.1703e-04 - mae: 0.0110 - val_loss: 2.2852e-04 - val_mae: 0.0116\n"
     ]
    }
   ],
   "source": [
    "model.compile(loss='mean_squared_error', optimizer='adam', metrics = ['mae'])\n",
    "history = model.fit(x_train, y_train, epochs=100, batch_size=128, verbose=1, validation_split = 0.15)"
   ]
  },
  {
   "cell_type": "code",
   "execution_count": 17,
   "id": "91b981e5",
   "metadata": {},
   "outputs": [
    {
     "name": "stdout",
     "output_type": "stream",
     "text": [
      "Model: \"sequential\"\n",
      "_________________________________________________________________\n",
      " Layer (type)                Output Shape              Param #   \n",
      "=================================================================\n",
      " dense (Dense)               (None, 60, 20)            40        \n",
      "                                                                 \n",
      " dense_1 (Dense)             (None, 60, 10)            210       \n",
      "                                                                 \n",
      " conv1d (Conv1D)             (None, 60, 32)            992       \n",
      "                                                                 \n",
      " bidirectional (Bidirectiona  (None, 64)               16640     \n",
      " l)                                                              \n",
      "                                                                 \n",
      " dense_2 (Dense)             (None, 1)                 65        \n",
      "                                                                 \n",
      "=================================================================\n",
      "Total params: 17,947\n",
      "Trainable params: 17,947\n",
      "Non-trainable params: 0\n",
      "_________________________________________________________________\n"
     ]
    }
   ],
   "source": [
    "model.summary()"
   ]
  },
  {
   "cell_type": "code",
   "execution_count": 18,
   "id": "8e315ffa",
   "metadata": {},
   "outputs": [],
   "source": [
    "# Test\n",
    "\n",
    "inputs = symbol[len(symbol) - len(valid) - 60:].values\n",
    "inputs = inputs.reshape(-1,1)\n",
    "inputs = scaler.transform(inputs)"
   ]
  },
  {
   "cell_type": "code",
   "execution_count": 19,
   "id": "91ae1c54",
   "metadata": {},
   "outputs": [],
   "source": [
    "X_test = []\n",
    "\n",
    "for i in range(60,inputs.shape[0]):\n",
    "    X_test.append(inputs[i-60:i,0])\n",
    "    \n",
    "X_test = np.array(X_test)\n",
    "X_test = np.reshape(X_test, (X_test.shape[0],X_test.shape[1],1))\n",
    "\n",
    "closing_price = model.predict(X_test)\n",
    "closing_price = scaler.inverse_transform(closing_price)"
   ]
  },
  {
   "cell_type": "code",
   "execution_count": 20,
   "id": "008d83a3",
   "metadata": {},
   "outputs": [],
   "source": [
    "f = close[1500:].values"
   ]
  },
  {
   "cell_type": "code",
   "execution_count": 21,
   "id": "3d84a6f3",
   "metadata": {},
   "outputs": [
    {
     "data": {
      "text/plain": [
       "1.4170274276845989"
      ]
     },
     "execution_count": 21,
     "metadata": {},
     "output_type": "execute_result"
    }
   ],
   "source": [
    "# root mean square error with actual values\n",
    "\n",
    "rms=np.sqrt(np.mean(np.power((f-closing_price),2)))\n",
    "rms"
   ]
  },
  {
   "cell_type": "code",
   "execution_count": 22,
   "id": "d6765530",
   "metadata": {},
   "outputs": [
    {
     "data": {
      "text/plain": [
       "0.5788833574464627"
      ]
     },
     "execution_count": 22,
     "metadata": {},
     "output_type": "execute_result"
    }
   ],
   "source": [
    "# root mean square error with EMA values\n",
    "\n",
    "rms=np.sqrt(np.mean(np.power((valid-closing_price),2)))\n",
    "rms"
   ]
  },
  {
   "cell_type": "code",
   "execution_count": 23,
   "id": "b0bd00b2",
   "metadata": {},
   "outputs": [
    {
     "data": {
      "text/plain": [
       "1.1649168768487672"
      ]
     },
     "execution_count": 23,
     "metadata": {},
     "output_type": "execute_result"
    }
   ],
   "source": [
    "# mean absolute error with actual values\n",
    "\n",
    "mae=(np.mean(abs(f-closing_price)))\n",
    "mae"
   ]
  },
  {
   "cell_type": "code",
   "execution_count": 24,
   "id": "b3b64b6a",
   "metadata": {},
   "outputs": [
    {
     "data": {
      "text/plain": [
       "0.46304895308901917"
      ]
     },
     "execution_count": 24,
     "metadata": {},
     "output_type": "execute_result"
    }
   ],
   "source": [
    "# mean absolute error with EMA values\n",
    "\n",
    "mae=(np.mean(abs(valid-closing_price)))\n",
    "mae"
   ]
  },
  {
   "cell_type": "code",
   "execution_count": 25,
   "id": "190417a4",
   "metadata": {},
   "outputs": [
    {
     "data": {
      "text/plain": [
       "<matplotlib.legend.Legend at 0x293a2a9d0>"
      ]
     },
     "execution_count": 25,
     "metadata": {},
     "output_type": "execute_result"
    },
    {
     "data": {
      "image/png": "[encoded data removed]",
      "text/plain": [
       "<Figure size 1152x576 with 1 Axes>"
      ]
     },
     "metadata": {
      "needs_background": "light"
     },
     "output_type": "display_data"
    }
   ],
   "source": [
    "train = symbol[:1500]\n",
    "valid = symbol[1500:]\n",
    "\n",
    "valid['Predictions'] = closing_price\n",
    "\n",
    "plt.figure(figsize=(16,8))\n",
    "\n",
    "plt.plot(close['close'][1500:])\n",
    "plt.plot(valid[['EMA','Predictions']])\n",
    "\n",
    "plt.legend(['Real', 'EMA', 'Predicted'])"
   ]
  },
  {
   "cell_type": "code",
   "execution_count": 26,
   "id": "39421486",
   "metadata": {},
   "outputs": [],
   "source": [
    "s = symbol[len(symbol) - 60:].values\n",
    "s = s.reshape(-1,1)\n",
    "s = scaler.transform(s)"
   ]
  },
  {
   "cell_type": "code",
   "execution_count": 27,
   "id": "d76dafd7",
   "metadata": {},
   "outputs": [
    {
     "data": {
      "text/plain": [
       "array([[54.99722]], dtype=float32)"
      ]
     },
     "execution_count": 27,
     "metadata": {},
     "output_type": "execute_result"
    }
   ],
   "source": [
    "s = np.reshape(s, (s.shape[1],s.shape[0],1))\n",
    "\n",
    "closing_price = model.predict(s)\n",
    "\n",
    "closing_price = scaler.inverse_transform(closing_price)\n",
    "\n",
    "# next day's closing price\n",
    "closing_price"
   ]
  },
  {
   "cell_type": "code",
   "execution_count": null,
   "id": "e91f4277",
   "metadata": {},
   "outputs": [],
   "source": []
  }
 ],
 "metadata": {
  "kernelspec": {
   "display_name": "Python 3.9 (tensorflow)",
   "language": "python",
   "name": "tensorflow"
  },
  "language_info": {
   "codemirror_mode": {
    "name": "ipython",
    "version": 3
   },
   "file_extension": ".py",
   "mimetype": "text/x-python",
   "name": "python",
   "nbconvert_exporter": "python",
   "pygments_lexer": "ipython3",
   "version": "3.9.12"
  }
 },
 "nbformat": 4,
 "nbformat_minor": 5
}
